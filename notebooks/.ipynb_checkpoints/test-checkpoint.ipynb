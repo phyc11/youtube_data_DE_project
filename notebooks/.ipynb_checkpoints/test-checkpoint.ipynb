{
 "cells": [
  {
   "cell_type": "code",
   "execution_count": 7,
   "id": "d5fe887c-e112-460e-a7d9-8b8e24354d1d",
   "metadata": {},
   "outputs": [],
   "source": [
    "from pyspark.sql import SparkSession"
   ]
  },
  {
   "cell_type": "code",
   "execution_count": 8,
   "id": "33559b94-f1fb-487f-84d4-522c49c35a05",
   "metadata": {},
   "outputs": [],
   "source": [
    "spark = SparkSession.builder \\\n",
    "    .appName(\"Read_Youtube_Comments_Data\") \\\n",
    "    .master('local') \\\n",
    "    .config(\"spark.hadoop.fs.defaultFS\", \"hdfs://namenode1:9000\") \\\n",
    "    .getOrCreate()"
   ]
  },
  {
   "cell_type": "code",
   "execution_count": 9,
   "id": "a372b97e-849f-4776-8765-b05243435051",
   "metadata": {},
   "outputs": [],
   "source": [
    "from pyspark.sql.types import StructType, StructField, StringType, IntegerType\n",
    "\n",
    "schema = StructType([\n",
    "    StructField(\"target\", IntegerType(), True),\n",
    "    StructField(\"id\", IntegerType(), True),\n",
    "    StructField(\"date\", StringType(), True),\n",
    "    StructField(\"query\",StringType(),True),\n",
    "    StructField(\"author\",StringType(),True),\n",
    "    StructField(\"text\",StringType(),True)\n",
    "])"
   ]
  },
  {
   "cell_type": "code",
   "execution_count": 12,
   "id": "6fee55ef-49dc-41c2-b301-1f140a6bf5d9",
   "metadata": {},
   "outputs": [
    {
     "name": "stdout",
     "output_type": "stream",
     "text": [
      "+-----------+--------------------+--------------------+-------------------+----------+----------+-------------+----------+-------------+----+-----+---+\n",
      "|   video_id|               title|         description|       published_at|view_count|like_count|comment_count|channel_id|channel_title|year|month|day|\n",
      "+-----------+--------------------+--------------------+-------------------+----------+----------+-------------+----------+-------------+----+-----+---+\n",
      "|2auLO7ea9tQ|   ...And Action! 🎬|I'm excited to an...|2025-04-11 07:00:03|      null|      null|         null|      null|         null|2025|    5|  3|\n",
      "|mLNz-_X1aGA|24 hours with Gio...|                    |2025-04-07 11:13:34|      null|      null|         null|      null|         null|2025|    5|  3|\n",
      "|pdjt7bCn558|Join me in a Fash...|                    |2025-04-01 09:23:31|      null|      null|         null|      null|         null|2025|    5|  3|\n",
      "|6C-iqXvAE2M|The MOST EXCLUSIV...|                    |2025-03-31 14:03:23|      null|      null|         null|      null|         null|2025|    5|  3|\n",
      "|aiYzX7FGkqQ|My AMAZING Experi...|                    |2025-03-24 14:00:02|      null|      null|         null|      null|         null|2025|    5|  3|\n",
      "|Z8GBQt9yhOg|My AMAZING Experi...|                    |2025-03-20 11:05:34|      null|      null|         null|      null|         null|2025|    5|  3|\n",
      "|7RXnUHQwli8|My AMAZING Experi...|                    |2025-03-19 14:58:00|      null|      null|         null|      null|         null|2025|    5|  3|\n",
      "|AbklN9B55Jg|LIVE: Riyadh Prem...|Join Cristiano Ro...|2025-02-17 16:30:56|      null|      null|         null|      null|         null|2025|    5|  3|\n",
      "|cN6RgkthoXM|Los Secretos del ...|                    |2025-02-17 13:18:04|      null|      null|         null|      null|         null|2025|    5|  3|\n",
      "|aPNg1E1tJaY|TOMORROW: Full IT...|                    |2025-02-16 18:51:03|      null|      null|         null|      null|         null|2025|    5|  3|\n",
      "|1h-zdPlWu4Y|TOMORROW: Full IT...|                    |2025-02-16 18:47:02|      null|      null|         null|      null|         null|2025|    5|  3|\n",
      "|EsMqByk0xYE|The biggest siuuu...|Fans from Madrid,...|2025-02-06 06:24:40|      null|      null|         null|      null|         null|2025|    5|  3|\n",
      "|b5mqa18JOS4|Cristiano: \"Mbapp...|Entrevista exclus...|2025-01-30 11:35:01|      null|      null|         null|      null|         null|2025|    5|  3|\n",
      "|os5d_GFyEHM|From Teen Sensati...|                    |2025-01-20 14:01:01|      null|      null|         null|      null|         null|2025|    5|  3|\n",
      "|aABKxaKtLkM|Everything you di...|                    |2025-01-09 14:00:00|      null|      null|         null|      null|         null|2025|    5|  3|\n",
      "|yBhSMQWFOFw|Cristiano shoots,...|                    |2025-01-03 13:57:57|      null|      null|         null|      null|         null|2025|    5|  3|\n",
      "|z-ZHtSfWiMw|Cristiano Ronaldo...|Watch the full Sa...|2024-12-30 14:04:31|      null|      null|         null|      null|         null|2025|    5|  3|\n",
      "|SG2f3r2Fz6Y|It’s just a littl...|Watch my complete...|2024-12-25 11:13:58|      null|      null|         null|      null|         null|2025|    5|  3|\n",
      "|9bPo1-YAfhw|Our Christmas mes...|Join us on a magi...|2024-12-24 18:39:36|      null|      null|         null|      null|         null|2025|    5|  3|\n",
      "|nOG-CaENIEY|How Many goalkeep...|One, then two, th...|2024-12-23 14:00:06|      null|      null|         null|      null|         null|2025|    5|  3|\n",
      "+-----------+--------------------+--------------------+-------------------+----------+----------+-------------+----------+-------------+----+-----+---+\n",
      "only showing top 20 rows\n",
      "\n"
     ]
    }
   ],
   "source": [
    "df2 = spark.read.parquet(\"hdfs://namenode1:9000/youtube_DE_project/datalake/youtube_video/raw/year=2025/month=5/day=5\", header=True)\n",
    "df2.show()"
   ]
  },
  {
   "cell_type": "code",
   "execution_count": 10,
   "id": "212dbe43-6a4e-40d9-ad4a-a3b06a9efcd5",
   "metadata": {},
   "outputs": [
    {
     "name": "stdout",
     "output_type": "stream",
     "text": [
      "+------+------+----+-----+------+----+\n",
      "|target|    id|date|query|author|text|\n",
      "+------+------+----+-----+------+----+\n",
      "|     0|432913|   0|    0|     0|   0|\n",
      "+------+------+----+-----+------+----+\n",
      "\n"
     ]
    }
   ],
   "source": [
    "from pyspark.sql import functions as F\n",
    "\n",
    "# Giả sử df là DataFrame của bạn\n",
    "df.select([F.count(F.when(F.col(c).isNull(), c)).alias(c) for c in df.columns]).show()\n"
   ]
  },
  {
   "cell_type": "code",
   "execution_count": 12,
   "id": "682c4e1a-063b-4ffe-a2c2-0e2b7f217e58",
   "metadata": {},
   "outputs": [
    {
     "data": {
      "text/plain": [
       "799999"
      ]
     },
     "execution_count": 12,
     "metadata": {},
     "output_type": "execute_result"
    }
   ],
   "source": [
    "df.filter(df['target'] == 0).count()"
   ]
  },
  {
   "cell_type": "code",
   "execution_count": 13,
   "id": "9dab148b-7db4-4b7f-a5cb-80ef1f718d98",
   "metadata": {},
   "outputs": [
    {
     "data": {
      "text/plain": [
       "0"
      ]
     },
     "execution_count": 13,
     "metadata": {},
     "output_type": "execute_result"
    }
   ],
   "source": [
    "df.filter(df['target'] == 2).count()"
   ]
  },
  {
   "cell_type": "code",
   "execution_count": 14,
   "id": "6d661eb4-7cff-4cd0-87c9-2c17cbdda65d",
   "metadata": {},
   "outputs": [
    {
     "data": {
      "text/plain": [
       "800000"
      ]
     },
     "execution_count": 14,
     "metadata": {},
     "output_type": "execute_result"
    }
   ],
   "source": [
    "df.filter(df['target'] == 4).count()"
   ]
  },
  {
   "cell_type": "code",
   "execution_count": 15,
   "id": "f393da77-166f-40cc-8884-862bc0a2659c",
   "metadata": {},
   "outputs": [
    {
     "data": {
      "text/plain": [
       "1599999"
      ]
     },
     "execution_count": 15,
     "metadata": {},
     "output_type": "execute_result"
    }
   ],
   "source": [
    "df.count()"
   ]
  },
  {
   "cell_type": "code",
   "execution_count": 24,
   "id": "2f3fb40a-801a-4748-97ac-7b87afe8ed3b",
   "metadata": {},
   "outputs": [
    {
     "name": "stdout",
     "output_type": "stream",
     "text": [
      "+------+----------+--------------------+--------+---------------+--------------------+----------+\n",
      "|target|        id|                date|   query|         author|                text|target_new|\n",
      "+------+----------+--------------------+--------+---------------+--------------------+----------+\n",
      "|     0|1467810672|Mon Apr 06 22:19:...|NO_QUERY|  scotthamilton|is upset that he ...|         0|\n",
      "|     0|1467810917|Mon Apr 06 22:19:...|NO_QUERY|       mattycus|@Kenichan I dived...|         0|\n",
      "|     0|1467811184|Mon Apr 06 22:19:...|NO_QUERY|        ElleCTF|my whole body fee...|         0|\n",
      "|     0|1467811193|Mon Apr 06 22:19:...|NO_QUERY|         Karoli|@nationwideclass ...|         0|\n",
      "|     0|1467811372|Mon Apr 06 22:20:...|NO_QUERY|       joy_wolf|@Kwesidei not the...|         0|\n",
      "|     0|1467811592|Mon Apr 06 22:20:...|NO_QUERY|        mybirch|         Need a hug |         0|\n",
      "|     0|1467811594|Mon Apr 06 22:20:...|NO_QUERY|           coZZ|@LOLTrish hey  lo...|         0|\n",
      "|     0|1467811795|Mon Apr 06 22:20:...|NO_QUERY|2Hood4Hollywood|@Tatiana_K nope t...|         0|\n",
      "|     0|1467812025|Mon Apr 06 22:20:...|NO_QUERY|        mimismo|@twittera que me ...|         0|\n",
      "|     0|1467812416|Mon Apr 06 22:20:...|NO_QUERY| erinx3leannexo|spring break in p...|         0|\n",
      "|     0|1467812579|Mon Apr 06 22:20:...|NO_QUERY|   pardonlauren|I just re-pierced...|         0|\n",
      "|     0|1467812723|Mon Apr 06 22:20:...|NO_QUERY|           TLeC|@caregiving I cou...|         0|\n",
      "|     0|1467812771|Mon Apr 06 22:20:...|NO_QUERY|robrobbierobert|@octolinz16 It it...|         0|\n",
      "|     0|1467812784|Mon Apr 06 22:20:...|NO_QUERY|    bayofwolves|@smarrison i woul...|         0|\n",
      "|     0|1467812799|Mon Apr 06 22:20:...|NO_QUERY|     HairByJess|@iamjazzyfizzle I...|         0|\n",
      "|     0|1467812964|Mon Apr 06 22:20:...|NO_QUERY| lovesongwriter|Hollis' death sce...|         0|\n",
      "|     0|1467813137|Mon Apr 06 22:20:...|NO_QUERY|       armotley|about to file taxes |         0|\n",
      "|     0|1467813579|Mon Apr 06 22:20:...|NO_QUERY|     starkissed|@LettyA ahh ive a...|         0|\n",
      "|     0|1467813782|Mon Apr 06 22:20:...|NO_QUERY|      gi_gi_bee|@FakerPattyPattz ...|         0|\n",
      "|     0|1467813985|Mon Apr 06 22:20:...|NO_QUERY|         quanvu|@alydesigns i was...|         0|\n",
      "+------+----------+--------------------+--------+---------------+--------------------+----------+\n",
      "only showing top 20 rows\n",
      "\n"
     ]
    }
   ],
   "source": [
    "from pyspark.sql.functions import when\n",
    "df1 = df.withColumn('target_new', when(df['target']==4,1).otherwise(0))\n",
    "df1.show()"
   ]
  },
  {
   "cell_type": "code",
   "execution_count": 25,
   "id": "5ac670f6-54e2-43f0-849d-01b01a92e582",
   "metadata": {},
   "outputs": [
    {
     "name": "stdout",
     "output_type": "stream",
     "text": [
      "+------+----------+--------------------+--------+---------------+--------------------+----------+\n",
      "|target|        id|                date|   query|         author|                text|target_new|\n",
      "+------+----------+--------------------+--------+---------------+--------------------+----------+\n",
      "|     4|1467822272|Mon Apr 06 22:22:...|NO_QUERY|          ersle|I LOVE @Health4Ua...|         1|\n",
      "|     4|1467822273|Mon Apr 06 22:22:...|NO_QUERY|       becca210|im meeting up wit...|         1|\n",
      "|     4|1467822283|Mon Apr 06 22:22:...|NO_QUERY|      Wingman29|@DaRealSunisaKim ...|         1|\n",
      "|     4|1467822287|Mon Apr 06 22:22:...|NO_QUERY|      katarinka|Being sick can be...|         1|\n",
      "|     4|1467822293|Mon Apr 06 22:22:...|NO_QUERY|    _EmilyYoung|@LovesBrooklyn2 h...|         1|\n",
      "|     4|1467822391|Mon Apr 06 22:22:...|NO_QUERY|  ajarofalmonds|@ProductOfFear Yo...|         1|\n",
      "|     4|1467822447|Mon Apr 06 22:22:...|NO_QUERY|      vmdavinci|@r_keith_hill Tha...|         1|\n",
      "|     4|1467822465|Mon Apr 06 22:22:...|NO_QUERY|  jessicavaliyi|@KeepinUpWKris I ...|         1|\n",
      "|     4|1467822489|Mon Apr 06 22:22:...|NO_QUERY|     emmasaur28|@tommcfly ah, con...|         1|\n",
      "|     4|1467822496|Mon Apr 06 22:22:...|NO_QUERY|  SherylBreuker|@e4VoIP I RESPOND...|         1|\n",
      "|     4|1467822530|Mon Apr 06 22:22:...|NO_QUERY|        claaare|crazy day of scho...|         1|\n",
      "|     4|1467822531|Mon Apr 06 22:22:...|NO_QUERY| Hollywood_Trey|@naughtyhaughty H...|         1|\n",
      "|     4|1467822635|Mon Apr 06 22:22:...|NO_QUERY|     JJLuver756|@nileyjileyluver ...|         1|\n",
      "|     4|1467822729|Mon Apr 06 22:22:...|NO_QUERY|      tophatdog|@soundwav2010 At ...|         1|\n",
      "|     4|1467822796|Mon Apr 06 22:22:...|NO_QUERY|toothfairycyber|@LutheranLucciol ...|         1|\n",
      "|     4|1467822814|Mon Apr 06 22:22:...|NO_QUERY|  misstoriblack|Just added tweeti...|         1|\n",
      "|     4|1467822899|Mon Apr 06 22:22:...|NO_QUERY|      estariray|@michellardi i re...|         1|\n",
      "|     4|1467822924|Mon Apr 06 22:22:...|NO_QUERY|         ddjuli|@nicolerichie: yo...|         1|\n",
      "|     4|1467822936|Mon Apr 06 22:22:...|NO_QUERY|    adamjackson|Catching Up on Em...|         1|\n",
      "|     4|1467822964|Mon Apr 06 22:22:...|NO_QUERY|    lightleaves|Dancing around th...|         1|\n",
      "+------+----------+--------------------+--------+---------------+--------------------+----------+\n",
      "only showing top 20 rows\n",
      "\n"
     ]
    }
   ],
   "source": [
    "df1.filter(df1['target_new'] == 1).show()"
   ]
  },
  {
   "cell_type": "code",
   "execution_count": 28,
   "id": "ada64f27-7771-4b54-b0d2-91f85ac3ac33",
   "metadata": {},
   "outputs": [
    {
     "name": "stdout",
     "output_type": "stream",
     "text": [
      "+------+\n",
      "|target|\n",
      "+------+\n",
      "|     4|\n",
      "|     0|\n",
      "+------+\n",
      "\n"
     ]
    }
   ],
   "source": [
    "df.select(\"target\").distinct().show()\n"
   ]
  },
  {
   "cell_type": "code",
   "execution_count": null,
   "id": "a4ef4d18-0252-4bd5-b6f6-8e7886303a53",
   "metadata": {},
   "outputs": [],
   "source": []
  }
 ],
 "metadata": {
  "kernelspec": {
   "display_name": "Python 3 (ipykernel)",
   "language": "python",
   "name": "python3"
  },
  "language_info": {
   "codemirror_mode": {
    "name": "ipython",
    "version": 3
   },
   "file_extension": ".py",
   "mimetype": "text/x-python",
   "name": "python",
   "nbconvert_exporter": "python",
   "pygments_lexer": "ipython3",
   "version": "3.11.4"
  }
 },
 "nbformat": 4,
 "nbformat_minor": 5
}
