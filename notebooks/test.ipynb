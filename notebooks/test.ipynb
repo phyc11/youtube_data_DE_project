{
 "cells": [
  {
   "cell_type": "code",
   "execution_count": 1,
   "id": "d5fe887c-e112-460e-a7d9-8b8e24354d1d",
   "metadata": {},
   "outputs": [],
   "source": [
    "from pyspark.sql import SparkSession"
   ]
  },
  {
   "cell_type": "code",
   "execution_count": 2,
   "id": "33559b94-f1fb-487f-84d4-522c49c35a05",
   "metadata": {},
   "outputs": [],
   "source": [
    "spark = SparkSession.builder \\\n",
    "    .appName(\"Read_Youtube_Comments_Data\") \\\n",
    "    .master('local') \\\n",
    "    .config(\"spark.hadoop.fs.defaultFS\", \"hdfs://namenode1:9000\") \\\n",
    "    .getOrCreate()"
   ]
  },
  {
   "cell_type": "code",
   "execution_count": 3,
   "id": "a372b97e-849f-4776-8765-b05243435051",
   "metadata": {},
   "outputs": [],
   "source": [
    "from pyspark.sql.types import StructType, StructField, StringType, IntegerType\n",
    "\n",
    "schema = StructType([\n",
    "    StructField(\"target\", IntegerType(), True),\n",
    "    StructField(\"id\", IntegerType(), True),\n",
    "    StructField(\"date\", StringType(), True),\n",
    "    StructField(\"query\",StringType(),True),\n",
    "    StructField(\"author\",StringType(),True),\n",
    "    StructField(\"text\",StringType(),True)\n",
    "])"
   ]
  },
  {
   "cell_type": "code",
   "execution_count": 7,
   "id": "6fee55ef-49dc-41c2-b301-1f140a6bf5d9",
   "metadata": {},
   "outputs": [
    {
     "name": "stdout",
     "output_type": "stream",
     "text": [
      "+--------------------+-----------+--------------------+--------------------+-------------------+----------+----------+-------------+----+-----+---+\n",
      "|          channel_id|   video_id|               title|         description|       published_at|view_count|like_count|comment_count|year|month|day|\n",
      "+--------------------+-----------+--------------------+--------------------+-------------------+----------+----------+-------------+----+-----+---+\n",
      "|UCtxD0x6AuNNqdXO9...|2auLO7ea9tQ|   ...And Action! 🎬|I'm excited to an...|2025-04-11 07:00:03|   1081131|     94028|         9047|2025|    5|  5|\n",
      "|UCtxD0x6AuNNqdXO9...|mLNz-_X1aGA|24 hours with Gio...|                    |2025-04-07 11:13:34|   1120672|     59694|         2916|2025|    5|  5|\n",
      "|UCtxD0x6AuNNqdXO9...|pdjt7bCn558|Join me in a Fash...|                    |2025-04-01 09:23:31|   1271065|     58337|         1918|2025|    5|  5|\n",
      "|UCtxD0x6AuNNqdXO9...|6C-iqXvAE2M|The MOST EXCLUSIV...|                    |2025-03-31 14:03:23|    822991|     55210|         4974|2025|    5|  5|\n",
      "|UCtxD0x6AuNNqdXO9...|aiYzX7FGkqQ|My AMAZING Experi...|                    |2025-03-24 14:00:02|    658841|     51428|         3504|2025|    5|  5|\n",
      "|UCtxD0x6AuNNqdXO9...|Z8GBQt9yhOg|My AMAZING Experi...|                    |2025-03-20 11:05:34|   1152220|     65015|         2198|2025|    5|  5|\n",
      "|UCtxD0x6AuNNqdXO9...|7RXnUHQwli8|My AMAZING Experi...|                    |2025-03-19 14:58:00|   1548127|     89982|         7148|2025|    5|  5|\n",
      "|UCtxD0x6AuNNqdXO9...|AbklN9B55Jg|LIVE: Riyadh Prem...|Join Cristiano Ro...|2025-02-17 16:30:56|   1049607|     63142|         2381|2025|    5|  5|\n",
      "|UCtxD0x6AuNNqdXO9...|cN6RgkthoXM|Los Secretos del ...|                    |2025-02-17 13:18:04|   2965417|    167631|        14088|2025|    5|  5|\n",
      "|UCtxD0x6AuNNqdXO9...|aPNg1E1tJaY|TOMORROW: Full IT...|                    |2025-02-16 18:51:03|    658777|     69195|         5973|2025|    5|  5|\n",
      "|UCtxD0x6AuNNqdXO9...|1h-zdPlWu4Y|TOMORROW: Full IT...|                    |2025-02-16 18:47:02|   1582547|    117962|         7584|2025|    5|  5|\n",
      "|UCtxD0x6AuNNqdXO9...|EsMqByk0xYE|The biggest siuuu...|Fans from Madrid,...|2025-02-06 06:24:40|   1374848|    170590|        20862|2025|    5|  5|\n",
      "|UCtxD0x6AuNNqdXO9...|b5mqa18JOS4|Cristiano: \"Mbapp...|Entrevista exclus...|2025-01-30 11:35:01|   2473691|    199548|        27563|2025|    5|  5|\n",
      "|UCtxD0x6AuNNqdXO9...|os5d_GFyEHM|From Teen Sensati...|                    |2025-01-20 14:01:01|   1622904|    164690|        11894|2025|    5|  5|\n",
      "|UCtxD0x6AuNNqdXO9...|aABKxaKtLkM|Everything you di...|                    |2025-01-09 14:00:00|   3406475|    232402|        14376|2025|    5|  5|\n",
      "|UCtxD0x6AuNNqdXO9...|yBhSMQWFOFw|Cristiano shoots,...|                    |2025-01-03 13:57:57|   4253337|    290863|        14129|2025|    5|  5|\n",
      "|UCtxD0x6AuNNqdXO9...|z-ZHtSfWiMw|Cristiano Ronaldo...|Watch the full Sa...|2024-12-30 14:04:31|   2554264|    239718|         7165|2025|    5|  5|\n",
      "|UCtxD0x6AuNNqdXO9...|SG2f3r2Fz6Y|It’s just a littl...|Watch my complete...|2024-12-25 11:13:58|   4366365|    416821|        23967|2025|    5|  5|\n",
      "|UCtxD0x6AuNNqdXO9...|9bPo1-YAfhw|Our Christmas mes...|Join us on a magi...|2024-12-24 18:39:36|   5315224|    377569|        26361|2025|    5|  5|\n",
      "|UCtxD0x6AuNNqdXO9...|nOG-CaENIEY|How Many goalkeep...|One, then two, th...|2024-12-23 14:00:06|  21256288|    922139|        37112|2025|    5|  5|\n",
      "+--------------------+-----------+--------------------+--------------------+-------------------+----------+----------+-------------+----+-----+---+\n",
      "only showing top 20 rows\n",
      "\n"
     ]
    }
   ],
   "source": [
    "df = spark.read.parquet(\"hdfs://namenode1:9000/youtube_DE_project/datalake/youtube_video/raw\", header=True)\n",
    "df.show()"
   ]
  },
  {
   "cell_type": "code",
   "execution_count": 8,
   "id": "1540278c-d2da-4f1f-a069-c4a2359e75db",
   "metadata": {},
   "outputs": [
    {
     "name": "stdout",
     "output_type": "stream",
     "text": [
      "+--------------------+-----------+--------------------+--------------------+-------------------+----------+----------+-------------+----+-----+---+\n",
      "|          channel_id|   video_id|               title|         description|       published_at|view_count|like_count|comment_count|year|month|day|\n",
      "+--------------------+-----------+--------------------+--------------------+-------------------+----------+----------+-------------+----+-----+---+\n",
      "|UCtxD0x6AuNNqdXO9...|2auLO7ea9tQ|   ...And Action! 🎬|I'm excited to an...|2025-04-11 07:00:03|   1099422|     95028|         9143|2025|    5|  6|\n",
      "|UCtxD0x6AuNNqdXO9...|mLNz-_X1aGA|24 hours with Gio...|                    |2025-04-07 11:13:34|   1136059|     60381|         2950|2025|    5|  6|\n",
      "|UCtxD0x6AuNNqdXO9...|pdjt7bCn558|Join me in a Fash...|                    |2025-04-01 09:23:31|   1282121|     58726|         1922|2025|    5|  6|\n",
      "|UCtxD0x6AuNNqdXO9...|6C-iqXvAE2M|The MOST EXCLUSIV...|                    |2025-03-31 14:03:23|    830958|     55446|         4988|2025|    5|  6|\n",
      "|UCtxD0x6AuNNqdXO9...|aiYzX7FGkqQ|My AMAZING Experi...|                    |2025-03-24 14:00:02|    661417|     51510|         3506|2025|    5|  6|\n",
      "|UCtxD0x6AuNNqdXO9...|Z8GBQt9yhOg|My AMAZING Experi...|                    |2025-03-20 11:05:34|   1160846|     65253|         2197|2025|    5|  6|\n",
      "|UCtxD0x6AuNNqdXO9...|7RXnUHQwli8|My AMAZING Experi...|                    |2025-03-19 14:58:00|   1559555|     90374|         7166|2025|    5|  6|\n",
      "|UCtxD0x6AuNNqdXO9...|AbklN9B55Jg|LIVE: Riyadh Prem...|Join Cristiano Ro...|2025-02-17 16:30:56|   1050918|     63198|         2379|2025|    5|  6|\n",
      "|UCtxD0x6AuNNqdXO9...|cN6RgkthoXM|Los Secretos del ...|                    |2025-02-17 13:18:04|   2970695|    167856|        14089|2025|    5|  6|\n",
      "|UCtxD0x6AuNNqdXO9...|aPNg1E1tJaY|TOMORROW: Full IT...|                    |2025-02-16 18:51:03|    660076|     69242|         5964|2025|    5|  6|\n",
      "|UCtxD0x6AuNNqdXO9...|1h-zdPlWu4Y|TOMORROW: Full IT...|                    |2025-02-16 18:47:02|   1592356|    118337|         7629|2025|    5|  6|\n",
      "|UCtxD0x6AuNNqdXO9...|EsMqByk0xYE|The biggest siuuu...|Fans from Madrid,...|2025-02-06 06:24:40|   1375828|    170614|        20849|2025|    5|  6|\n",
      "|UCtxD0x6AuNNqdXO9...|b5mqa18JOS4|Cristiano: \"Mbapp...|Entrevista exclus...|2025-01-30 11:35:01|   2475076|    199553|        27556|2025|    5|  6|\n",
      "|UCtxD0x6AuNNqdXO9...|os5d_GFyEHM|From Teen Sensati...|                    |2025-01-20 14:01:01|   1624318|    164738|        11893|2025|    5|  6|\n",
      "|UCtxD0x6AuNNqdXO9...|aABKxaKtLkM|Everything you di...|                    |2025-01-09 14:00:00|   3410071|    232513|        14364|2025|    5|  6|\n",
      "|UCtxD0x6AuNNqdXO9...|yBhSMQWFOFw|Cristiano shoots,...|                    |2025-01-03 13:57:57|   4269464|    291335|        14145|2025|    5|  6|\n",
      "|UCtxD0x6AuNNqdXO9...|z-ZHtSfWiMw|Cristiano Ronaldo...|Watch the full Sa...|2024-12-30 14:04:31|   2562401|    239953|         7168|2025|    5|  6|\n",
      "|UCtxD0x6AuNNqdXO9...|SG2f3r2Fz6Y|It’s just a littl...|Watch my complete...|2024-12-25 11:13:58|   4374230|    417238|        23994|2025|    5|  6|\n",
      "|UCtxD0x6AuNNqdXO9...|9bPo1-YAfhw|Our Christmas mes...|Join us on a magi...|2024-12-24 18:39:36|   5316316|    377565|        26355|2025|    5|  6|\n",
      "|UCtxD0x6AuNNqdXO9...|nOG-CaENIEY|How Many goalkeep...|One, then two, th...|2024-12-23 14:00:06|  21272930|    922439|        37109|2025|    5|  6|\n",
      "+--------------------+-----------+--------------------+--------------------+-------------------+----------+----------+-------------+----+-----+---+\n",
      "only showing top 20 rows\n",
      "\n"
     ]
    }
   ],
   "source": [
    "df.filter(df['day']==6).show()"
   ]
  },
  {
   "cell_type": "code",
   "execution_count": 9,
   "id": "212dbe43-6a4e-40d9-ad4a-a3b06a9efcd5",
   "metadata": {},
   "outputs": [
    {
     "name": "stdout",
     "output_type": "stream",
     "text": [
      "+----------+--------+-----+-----------+------------+----------+----------+-------------+----+-----+---+\n",
      "|channel_id|video_id|title|description|published_at|view_count|like_count|comment_count|year|month|day|\n",
      "+----------+--------+-----+-----------+------------+----------+----------+-------------+----+-----+---+\n",
      "|         0|       0|    0|          0|           0|         0|         0|            0|   0|    0|  0|\n",
      "+----------+--------+-----+-----------+------------+----------+----------+-------------+----+-----+---+\n",
      "\n"
     ]
    }
   ],
   "source": [
    "from pyspark.sql import functions as F\n",
    "\n",
    "# Giả sử df là DataFrame của bạn\n",
    "df.select([F.count(F.when(F.col(c).isNull(), c)).alias(c) for c in df.columns]).show()\n"
   ]
  },
  {
   "cell_type": "code",
   "execution_count": 11,
   "id": "d2838052-26bc-4827-8692-4a78b19dfa86",
   "metadata": {},
   "outputs": [
    {
     "data": {
      "text/plain": [
       "204"
      ]
     },
     "execution_count": 11,
     "metadata": {},
     "output_type": "execute_result"
    }
   ],
   "source": [
    "df.count()"
   ]
  },
  {
   "cell_type": "code",
   "execution_count": 12,
   "id": "682c4e1a-063b-4ffe-a2c2-0e2b7f217e58",
   "metadata": {},
   "outputs": [
    {
     "data": {
      "text/plain": [
       "799999"
      ]
     },
     "execution_count": 12,
     "metadata": {},
     "output_type": "execute_result"
    }
   ],
   "source": [
    "df.filter(df['target'] == 0).count()"
   ]
  },
  {
   "cell_type": "code",
   "execution_count": 13,
   "id": "9dab148b-7db4-4b7f-a5cb-80ef1f718d98",
   "metadata": {},
   "outputs": [
    {
     "data": {
      "text/plain": [
       "0"
      ]
     },
     "execution_count": 13,
     "metadata": {},
     "output_type": "execute_result"
    }
   ],
   "source": [
    "df.filter(df['target'] == 2).count()"
   ]
  },
  {
   "cell_type": "code",
   "execution_count": 14,
   "id": "6d661eb4-7cff-4cd0-87c9-2c17cbdda65d",
   "metadata": {},
   "outputs": [
    {
     "data": {
      "text/plain": [
       "800000"
      ]
     },
     "execution_count": 14,
     "metadata": {},
     "output_type": "execute_result"
    }
   ],
   "source": [
    "df.filter(df['target'] == 4).count()"
   ]
  },
  {
   "cell_type": "code",
   "execution_count": 15,
   "id": "f393da77-166f-40cc-8884-862bc0a2659c",
   "metadata": {},
   "outputs": [
    {
     "data": {
      "text/plain": [
       "1599999"
      ]
     },
     "execution_count": 15,
     "metadata": {},
     "output_type": "execute_result"
    }
   ],
   "source": [
    "df.count()"
   ]
  },
  {
   "cell_type": "code",
   "execution_count": 24,
   "id": "2f3fb40a-801a-4748-97ac-7b87afe8ed3b",
   "metadata": {},
   "outputs": [
    {
     "name": "stdout",
     "output_type": "stream",
     "text": [
      "+------+----------+--------------------+--------+---------------+--------------------+----------+\n",
      "|target|        id|                date|   query|         author|                text|target_new|\n",
      "+------+----------+--------------------+--------+---------------+--------------------+----------+\n",
      "|     0|1467810672|Mon Apr 06 22:19:...|NO_QUERY|  scotthamilton|is upset that he ...|         0|\n",
      "|     0|1467810917|Mon Apr 06 22:19:...|NO_QUERY|       mattycus|@Kenichan I dived...|         0|\n",
      "|     0|1467811184|Mon Apr 06 22:19:...|NO_QUERY|        ElleCTF|my whole body fee...|         0|\n",
      "|     0|1467811193|Mon Apr 06 22:19:...|NO_QUERY|         Karoli|@nationwideclass ...|         0|\n",
      "|     0|1467811372|Mon Apr 06 22:20:...|NO_QUERY|       joy_wolf|@Kwesidei not the...|         0|\n",
      "|     0|1467811592|Mon Apr 06 22:20:...|NO_QUERY|        mybirch|         Need a hug |         0|\n",
      "|     0|1467811594|Mon Apr 06 22:20:...|NO_QUERY|           coZZ|@LOLTrish hey  lo...|         0|\n",
      "|     0|1467811795|Mon Apr 06 22:20:...|NO_QUERY|2Hood4Hollywood|@Tatiana_K nope t...|         0|\n",
      "|     0|1467812025|Mon Apr 06 22:20:...|NO_QUERY|        mimismo|@twittera que me ...|         0|\n",
      "|     0|1467812416|Mon Apr 06 22:20:...|NO_QUERY| erinx3leannexo|spring break in p...|         0|\n",
      "|     0|1467812579|Mon Apr 06 22:20:...|NO_QUERY|   pardonlauren|I just re-pierced...|         0|\n",
      "|     0|1467812723|Mon Apr 06 22:20:...|NO_QUERY|           TLeC|@caregiving I cou...|         0|\n",
      "|     0|1467812771|Mon Apr 06 22:20:...|NO_QUERY|robrobbierobert|@octolinz16 It it...|         0|\n",
      "|     0|1467812784|Mon Apr 06 22:20:...|NO_QUERY|    bayofwolves|@smarrison i woul...|         0|\n",
      "|     0|1467812799|Mon Apr 06 22:20:...|NO_QUERY|     HairByJess|@iamjazzyfizzle I...|         0|\n",
      "|     0|1467812964|Mon Apr 06 22:20:...|NO_QUERY| lovesongwriter|Hollis' death sce...|         0|\n",
      "|     0|1467813137|Mon Apr 06 22:20:...|NO_QUERY|       armotley|about to file taxes |         0|\n",
      "|     0|1467813579|Mon Apr 06 22:20:...|NO_QUERY|     starkissed|@LettyA ahh ive a...|         0|\n",
      "|     0|1467813782|Mon Apr 06 22:20:...|NO_QUERY|      gi_gi_bee|@FakerPattyPattz ...|         0|\n",
      "|     0|1467813985|Mon Apr 06 22:20:...|NO_QUERY|         quanvu|@alydesigns i was...|         0|\n",
      "+------+----------+--------------------+--------+---------------+--------------------+----------+\n",
      "only showing top 20 rows\n",
      "\n"
     ]
    }
   ],
   "source": [
    "from pyspark.sql.functions import when\n",
    "df1 = df.withColumn('target_new', when(df['target']==4,1).otherwise(0))\n",
    "df1.show()"
   ]
  },
  {
   "cell_type": "code",
   "execution_count": 25,
   "id": "5ac670f6-54e2-43f0-849d-01b01a92e582",
   "metadata": {},
   "outputs": [
    {
     "name": "stdout",
     "output_type": "stream",
     "text": [
      "+------+----------+--------------------+--------+---------------+--------------------+----------+\n",
      "|target|        id|                date|   query|         author|                text|target_new|\n",
      "+------+----------+--------------------+--------+---------------+--------------------+----------+\n",
      "|     4|1467822272|Mon Apr 06 22:22:...|NO_QUERY|          ersle|I LOVE @Health4Ua...|         1|\n",
      "|     4|1467822273|Mon Apr 06 22:22:...|NO_QUERY|       becca210|im meeting up wit...|         1|\n",
      "|     4|1467822283|Mon Apr 06 22:22:...|NO_QUERY|      Wingman29|@DaRealSunisaKim ...|         1|\n",
      "|     4|1467822287|Mon Apr 06 22:22:...|NO_QUERY|      katarinka|Being sick can be...|         1|\n",
      "|     4|1467822293|Mon Apr 06 22:22:...|NO_QUERY|    _EmilyYoung|@LovesBrooklyn2 h...|         1|\n",
      "|     4|1467822391|Mon Apr 06 22:22:...|NO_QUERY|  ajarofalmonds|@ProductOfFear Yo...|         1|\n",
      "|     4|1467822447|Mon Apr 06 22:22:...|NO_QUERY|      vmdavinci|@r_keith_hill Tha...|         1|\n",
      "|     4|1467822465|Mon Apr 06 22:22:...|NO_QUERY|  jessicavaliyi|@KeepinUpWKris I ...|         1|\n",
      "|     4|1467822489|Mon Apr 06 22:22:...|NO_QUERY|     emmasaur28|@tommcfly ah, con...|         1|\n",
      "|     4|1467822496|Mon Apr 06 22:22:...|NO_QUERY|  SherylBreuker|@e4VoIP I RESPOND...|         1|\n",
      "|     4|1467822530|Mon Apr 06 22:22:...|NO_QUERY|        claaare|crazy day of scho...|         1|\n",
      "|     4|1467822531|Mon Apr 06 22:22:...|NO_QUERY| Hollywood_Trey|@naughtyhaughty H...|         1|\n",
      "|     4|1467822635|Mon Apr 06 22:22:...|NO_QUERY|     JJLuver756|@nileyjileyluver ...|         1|\n",
      "|     4|1467822729|Mon Apr 06 22:22:...|NO_QUERY|      tophatdog|@soundwav2010 At ...|         1|\n",
      "|     4|1467822796|Mon Apr 06 22:22:...|NO_QUERY|toothfairycyber|@LutheranLucciol ...|         1|\n",
      "|     4|1467822814|Mon Apr 06 22:22:...|NO_QUERY|  misstoriblack|Just added tweeti...|         1|\n",
      "|     4|1467822899|Mon Apr 06 22:22:...|NO_QUERY|      estariray|@michellardi i re...|         1|\n",
      "|     4|1467822924|Mon Apr 06 22:22:...|NO_QUERY|         ddjuli|@nicolerichie: yo...|         1|\n",
      "|     4|1467822936|Mon Apr 06 22:22:...|NO_QUERY|    adamjackson|Catching Up on Em...|         1|\n",
      "|     4|1467822964|Mon Apr 06 22:22:...|NO_QUERY|    lightleaves|Dancing around th...|         1|\n",
      "+------+----------+--------------------+--------+---------------+--------------------+----------+\n",
      "only showing top 20 rows\n",
      "\n"
     ]
    }
   ],
   "source": [
    "df1.filter(df1['target_new'] == 1).show()"
   ]
  },
  {
   "cell_type": "code",
   "execution_count": 28,
   "id": "ada64f27-7771-4b54-b0d2-91f85ac3ac33",
   "metadata": {},
   "outputs": [
    {
     "name": "stdout",
     "output_type": "stream",
     "text": [
      "+------+\n",
      "|target|\n",
      "+------+\n",
      "|     4|\n",
      "|     0|\n",
      "+------+\n",
      "\n"
     ]
    }
   ],
   "source": [
    "df.select(\"target\").distinct().show()\n"
   ]
  },
  {
   "cell_type": "code",
   "execution_count": null,
   "id": "a4ef4d18-0252-4bd5-b6f6-8e7886303a53",
   "metadata": {},
   "outputs": [],
   "source": []
  }
 ],
 "metadata": {
  "kernelspec": {
   "display_name": "Python 3 (ipykernel)",
   "language": "python",
   "name": "python3"
  },
  "language_info": {
   "codemirror_mode": {
    "name": "ipython",
    "version": 3
   },
   "file_extension": ".py",
   "mimetype": "text/x-python",
   "name": "python",
   "nbconvert_exporter": "python",
   "pygments_lexer": "ipython3",
   "version": "3.11.4"
  }
 },
 "nbformat": 4,
 "nbformat_minor": 5
}
